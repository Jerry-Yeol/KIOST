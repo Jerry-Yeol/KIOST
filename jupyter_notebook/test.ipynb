{
 "cells": [
  {
   "cell_type": "code",
   "execution_count": 1,
   "metadata": {
    "collapsed": false
   },
   "outputs": [],
   "source": [
    "import multiprocessing"
   ]
  },
  {
   "cell_type": "code",
   "execution_count": 2,
   "metadata": {
    "collapsed": false
   },
   "outputs": [
    {
     "name": "stdout",
     "output_type": "stream",
     "text": [
      "Worker: 0\n",
      "Worker: 1\n",
      "Worker: 2\n",
      "Worker: 3\n",
      "Worker: 4\n"
     ]
    }
   ],
   "source": [
    "def worker(num):\n",
    "    print 'Worker:', num\n",
    "    return\n",
    "\n",
    "if __name__=='__main__':\n",
    "    jobs = []\n",
    "    for i in range(5):\n",
    "        p = multiprocessing.Process(target=worker, args=(i,))\n",
    "        jobs.append(p)\n",
    "        p.start()"
   ]
  },
  {
   "cell_type": "code",
   "execution_count": 3,
   "metadata": {
    "collapsed": true
   },
   "outputs": [],
   "source": [
    "def sum_self(x, y):\n",
    "     return sum([i for i in xrange(2,x)]) + sum([j for j in xrange(2,y)])"
   ]
  },
  {
   "cell_type": "code",
   "execution_count": 4,
   "metadata": {
    "collapsed": false
   },
   "outputs": [
    {
     "data": {
      "text/plain": [
       "70"
      ]
     },
     "execution_count": 4,
     "metadata": {},
     "output_type": "execute_result"
    }
   ],
   "source": [
    "sum_self(9,9)"
   ]
  },
  {
   "cell_type": "code",
   "execution_count": 5,
   "metadata": {
    "collapsed": true
   },
   "outputs": [],
   "source": [
    "import time"
   ]
  },
  {
   "cell_type": "code",
   "execution_count": 17,
   "metadata": {
    "collapsed": false
   },
   "outputs": [
    {
     "name": "stdout",
     "output_type": "stream",
     "text": [
      "8\n",
      "Sum of primes below 100 is 99989998\n"
     ]
    }
   ],
   "source": [
    "import pp\n",
    "\n",
    "#1. Start pp execution server with the number of workers set to the number of processors in the system\n",
    "job_server1 = pp.Server() \n",
    "print job_server1.get_ncpus()\n",
    "#2. Submit all the tasks for parallel execution:\n",
    "#funcX : 수행할 함수, argsX : funcX에 넘겨줄 인자들, modulesX : funcX를 수행하기 위해 필요한 python module.\n",
    "\n",
    "#3. Retrieve the results as needed:\n",
    "\n",
    "job1 = job_server1.submit(sum_self, (10000, 10000))\n",
    "\n",
    "# Retrieves the result calculated by job1\n",
    "# The value of job1() is the same as sum_primes(100)\n",
    "# If the job has not been finished yet, execution will wait here until result is available\n",
    "result = job1()\n",
    "\n",
    "print \"Sum of primes below 100 is\", result"
   ]
  },
  {
   "cell_type": "code",
   "execution_count": 18,
   "metadata": {
    "collapsed": false
   },
   "outputs": [
    {
     "name": "stdout",
     "output_type": "stream",
     "text": [
      "Sum of def 1000000 is 999998999998\n",
      "Sum of def 1000100 is 1000199009898\n",
      "Sum of def 1000200 is 1000399039798\n",
      "Sum of def 1000300 is 1000599089698\n",
      "Sum of def 1000400 is 1000799159598\n",
      "Sum of def 1000500 is 1000999249498\n",
      "Sum of def 1000600 is 1001199359398\n",
      "Sum of def 1000700 is 1001399489298\n",
      "Time elapsed:  0.569244146347 s\n"
     ]
    }
   ],
   "source": [
    "start_time = time.time()\n",
    "\n",
    "inputs = (1000000, 1000100, 1000200, 1000300, 1000400, 1000500, 1000600, 1000700)\n",
    "\n",
    "#jobs = [(out, job_server1.submit(sum_self,(out,out,))) for out in inputs]\n",
    "\n",
    "for out in inputs:\n",
    "    jobs = job_server1.submit(sum_self,(out, out,))\n",
    "    print \"Sum of def\", out, \"is\", jobs()\n",
    "\n",
    "print \"Time elapsed: \", time.time() - start_time, \"s\"\n"
   ]
  },
  {
   "cell_type": "code",
   "execution_count": 10,
   "metadata": {
    "collapsed": false
   },
   "outputs": [
    {
     "name": "stdout",
     "output_type": "stream",
     "text": [
      "1\n",
      "Sum of primes below 100 is 99989998\n"
     ]
    }
   ],
   "source": [
    "#1. Start pp execution server with the number of workers set to the number of processors in the system\n",
    "job_server2 = pp.Server(1) \n",
    "print job_server2.get_ncpus()\n",
    "#2. Submit all the tasks for parallel execution:\n",
    "#funcX : 수행할 함수, argsX : funcX에 넘겨줄 인자들, modulesX : funcX를 수행하기 위해 필요한 python module.\n",
    "\n",
    "#3. Retrieve the results as needed:\n",
    "\n",
    "job2 = job_server2.submit(sum_self, (10000, 10000))\n",
    "\n",
    "# Retrieves the result calculated by job1\n",
    "# The value of job1() is the same as sum_primes(100)\n",
    "# If the job has not been finished yet, execution will wait here until result is available\n",
    "result = job2()\n",
    "\n",
    "print \"Sum of primes below 100 is\", result"
   ]
  },
  {
   "cell_type": "code",
   "execution_count": 19,
   "metadata": {
    "collapsed": false
   },
   "outputs": [
    {
     "name": "stdout",
     "output_type": "stream",
     "text": [
      "Sum of def 1000000 is 999998999998\n",
      "Sum of def 1000100 is 1000199009898\n",
      "Sum of def 1000200 is 1000399039798\n",
      "Sum of def 1000300 is 1000599089698\n",
      "Sum of def 1000400 is 1000799159598\n",
      "Sum of def 1000500 is 1000999249498\n",
      "Sum of def 1000600 is 1001199359398\n",
      "Sum of def 1000700 is 1001399489298\n",
      "Time elapsed:  0.553571939468 s\n"
     ]
    }
   ],
   "source": [
    "start_time = time.time()\n",
    "\n",
    "inputs = (1000000, 1000100, 1000200, 1000300, 1000400, 1000500, 1000600, 1000700)\n",
    "\n",
    "#jobs = [(out, job_server2.submit(sum_self,(out,out,))) for out in inputs]\n",
    "\n",
    "for out in inputs:\n",
    "    jobs = job_server2.submit(sum_self,(out, out,))\n",
    "    print \"Sum of def\", out, \"is\", jobs()\n",
    "\n",
    "print \"Time elapsed: \", time.time() - start_time, \"s\"\n"
   ]
  },
  {
   "cell_type": "code",
   "execution_count": 13,
   "metadata": {
    "collapsed": false
   },
   "outputs": [
    {
     "name": "stdout",
     "output_type": "stream",
     "text": [
      "1\n",
      "2\n",
      "3\n",
      "4\n"
     ]
    }
   ],
   "source": [
    "a = (1,2,3,4)\n",
    "\n",
    "for i in a:\n",
    "    print i"
   ]
  },
  {
   "cell_type": "code",
   "execution_count": null,
   "metadata": {
    "collapsed": true
   },
   "outputs": [],
   "source": []
  }
 ],
 "metadata": {
  "kernelspec": {
   "display_name": "Python 2",
   "language": "python",
   "name": "python2"
  },
  "language_info": {
   "codemirror_mode": {
    "name": "ipython",
    "version": 2
   },
   "file_extension": ".py",
   "mimetype": "text/x-python",
   "name": "python",
   "nbconvert_exporter": "python",
   "pygments_lexer": "ipython2",
   "version": "2.7.12"
  }
 },
 "nbformat": 4,
 "nbformat_minor": 2
}

{
 "cells": [
  {
   "cell_type": "code",
   "execution_count": 1,
   "metadata": {
    "collapsed": false
   },
   "outputs": [
    {
     "name": "stdout",
     "output_type": "stream",
     "text": [
      "Packages loaded\n"
     ]
    }
   ],
   "source": [
    "import PIL\n",
    "import cPickle\n",
    "import time\n",
    "import numpy\n",
    "import matplotlib\n",
    "import tensorflow\n",
    "import glob\n",
    "import os\n",
    "import math\n",
    "import pp\n",
    "import multiprocessing\n",
    "%matplotlib inline\n",
    "\n",
    "print \"Packages loaded\""
   ]
  },
  {
   "cell_type": "code",
   "execution_count": 2,
   "metadata": {
    "collapsed": false
   },
   "outputs": [
    {
     "name": "stdout",
     "output_type": "stream",
     "text": [
      "Wiht  8 workers\n"
     ]
    }
   ],
   "source": [
    "ppservers = ()\n",
    "\n",
    "job_server = pp.Server(ppservers=ppservers)\n",
    "\n",
    "print \"Wiht \",job_server.get_ncpus(),\"workers\""
   ]
  },
  {
   "cell_type": "code",
   "execution_count": 3,
   "metadata": {
    "collapsed": false
   },
   "outputs": [
    {
     "name": "stdout",
     "output_type": "stream",
     "text": [
      "16641 train images\n",
      "16641 train annotations\n"
     ]
    }
   ],
   "source": [
    "direc = '/home/jerry/Downloads/notebook/KIOST/'\n",
    "\n",
    "path1 = direc + 'train2/'\n",
    "path2 = direc + 'trainannot/'\n",
    "trainimglist = glob.glob(path1 + '/*.jpg')\n",
    "trainimglist.sort()\n",
    "trainannotlist = glob.glob(path2 + '/*.jpg')\n",
    "trainannotlist.sort()\n",
    "print (\"%d train images\" % (len(trainimglist)))\n",
    "print (\"%d train annotations\" % (len(trainannotlist)))\n",
    "       "
   ]
  },
  {
   "cell_type": "code",
   "execution_count": 4,
   "metadata": {
    "collapsed": true
   },
   "outputs": [],
   "source": [
    "height = 128\n",
    "width = 128\n",
    "nrclass = 3\n",
    "trainData = None\n",
    "trainLabel = None\n",
    "trainLabelOneHot = None\n",
    "trainlen = len(trainimglist)"
   ]
  },
  {
   "cell_type": "code",
   "execution_count": 5,
   "metadata": {
    "collapsed": true
   },
   "outputs": [],
   "source": [
    "def DenseToOneHot(labels_dense, num_classes):\n",
    "    # Convert class labels from scalars to one-hot vectors.\n",
    "    num_labels = labels_dense.shape[0]\n",
    "    index_offset = np.arange(num_labels) * num_classes\n",
    "    labels_one_hot = np.zeros((num_labels, num_classes))\n",
    "    labels_one_hot.flat[index_offset + labels_dense.ravel()] = 1\n",
    "    return labels_one_hot"
   ]
  },
  {
   "cell_type": "code",
   "execution_count": 6,
   "metadata": {
    "collapsed": true
   },
   "outputs": [],
   "source": [
    "def r2g(x, h, w):\n",
    "        # Train image\n",
    "        img1 = PIL.Image.open(x)\n",
    "        img1 = img1.resize((h, w))\n",
    "        gray  = numpy.array(img1).reshape(1, h, w, 3)\n",
    "        gray = gray/255\n",
    "\n",
    "        return gray\n",
    "\n",
    "def l2l(x, h, w):\n",
    "        img2 = PIL.Image.open(x)\n",
    "        img2 = img2.resize((h, w), PIL.Image.NEAREST)\n",
    "        label = numpy.array(img2).reshape(1, h, w, 1)\n",
    "        label = label/255\n",
    "       \n",
    "        return label"
   ]
  },
  {
   "cell_type": "code",
   "execution_count": 7,
   "metadata": {
    "collapsed": true
   },
   "outputs": [],
   "source": [
    "def concat(x, y):\n",
    "    x = np.concatenate((x, y), axis=0)\n",
    "    return x"
   ]
  },
  {
   "cell_type": "code",
   "execution_count": 9,
   "metadata": {
    "collapsed": false
   },
   "outputs": [
    {
     "name": "stdout",
     "output_type": "stream",
     "text": [
      "time :  1728.5681169\n"
     ]
    }
   ],
   "source": [
    "start_time = time.time()\n",
    "\n",
    "gray = [(out, job_server.submit(r2g, (out, height, width), (),(\"PIL.Image\",\"numpy\",))) for out in trainimglist, trainannotlist, range(trainlen)]\n",
    "label = job_server.submit(l2l, (f2, height, width), (),(\"PIL.Image\",\"numpy\",))\n",
    "\n",
    "\n",
    "for (f1, f2, i) in zip(trainimglist, trainannotlist, range(trainlen)):\n",
    "    \n",
    "    # Stack images and labels\n",
    "    if i == 0: \n",
    "        trainData =gray()\n",
    "        trainLabel = label()\n",
    "    else:\n",
    "        trainData = numpy.concatenate((trainData, gray()), axis=0)\n",
    "        trainLabel = numpy.concatenate((trainLabel, label()), axis=0)\n",
    "        \n",
    "print \"time : \", time.time()-start_time"
   ]
  },
  {
   "cell_type": "code",
   "execution_count": null,
   "metadata": {
    "collapsed": true
   },
   "outputs": [],
   "source": []
  },
  {
   "cell_type": "code",
   "execution_count": null,
   "metadata": {
    "collapsed": false
   },
   "outputs": [],
   "source": [
    "start_time = time.time()\n",
    "for (f1, f2, i) in zip(trainimglist, trainannotlist, range(trainlen)):\n",
    "    # print (\\\"[%02d/%02d]f1: %sf2: %s\\\" % (i, trainlen, f1, f2))\n",
    "   \n",
    "    # Train image\n",
    "    img1 = PIL.Image.open(f1)\n",
    "    img1 = img1.resize((height, width))\n",
    "    gray  = numpy.array(img1).reshape(1, height, width, 3)\n",
    "    gray = gray/255\n",
    "   \n",
    "    # Train label\n",
    "    img2 = PIL.Image.open(f2)\n",
    "    img2 = img2.resize((height, width), PIL.Image.NEAREST)\n",
    "    label = numpy.array(img2).reshape(1, height, width, 1)\n",
    "    label = label/255\n",
    "   \n",
    "    # Stack images and labels\n",
    "    if i == 0: \n",
    "        trainData =gray\n",
    "        trainLabel = label\n",
    "    else:\n",
    "        trainData = numpy.concatenate((trainData, gray), axis=0)\n",
    "        trainLabel = numpy.concatenate((trainLabel, label), axis=0)\n",
    "        \n",
    "print \"time : \", time.time() - start_time"
   ]
  },
  {
   "cell_type": "code",
   "execution_count": null,
   "metadata": {
    "collapsed": true
   },
   "outputs": [],
   "source": [
    "# Onehot-coded label\n",
    "    trainLabelOneHot = np.zeros((trainLabel.shape[0], trainLabel.shape[1], trainLabel.shape[2], nrclass))\n",
    "    for row in range(height):\n",
    "        for col in range(width):\n",
    "            single = trainLabel[:, row, col, 0]\n",
    "            oneHot = DenseToOneHot(single, nrclass) # (367,) => (367, 22)\n",
    "            trainLabelOneHot[:, row, col, :] = oneHot\n",
    "    print (\"Train data process done.\")"
   ]
  }
 ],
 "metadata": {
  "kernelspec": {
   "display_name": "Python 2",
   "language": "python",
   "name": "python2"
  },
  "language_info": {
   "codemirror_mode": {
    "name": "ipython",
    "version": 2
   },
   "file_extension": ".py",
   "mimetype": "text/x-python",
   "name": "python",
   "nbconvert_exporter": "python",
   "pygments_lexer": "ipython2",
   "version": "2.7.12"
  }
 },
 "nbformat": 4,
 "nbformat_minor": 2
}

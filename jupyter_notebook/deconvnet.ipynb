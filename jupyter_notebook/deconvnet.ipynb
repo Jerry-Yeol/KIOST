{
 "cells": [
  {
   "cell_type": "code",
   "execution_count": 1,
   "metadata": {
    "collapsed": false
   },
   "outputs": [
    {
     "name": "stdout",
     "output_type": "stream",
     "text": [
      "Packs loaed.\n"
     ]
    }
   ],
   "source": [
    "from PIL import Image\n",
    "import cPickle as pkl\n",
    "import time\n",
    "import numpy as np\n",
    "import matplotlib.pyplot as plt\n",
    "import tensorflow as tf\n",
    "import glob\n",
    "import os\n",
    "from math import ceil\n",
    "%matplotlib inline  \n",
    "print (\"Packs loaed.\")\n",
    "\n"
   ]
  },
  {
   "cell_type": "code",
   "execution_count": 2,
   "metadata": {
    "collapsed": false
   },
   "outputs": [
    {
     "name": "stdout",
     "output_type": "stream",
     "text": [
      "960 train images\n",
      "960 train annotations\n",
      "160 test images\n",
      "160 test annotations\n"
     ]
    }
   ],
   "source": [
    "# Location of the files\n",
    "MRI = '/home/jerry/Downloads/Data/'\n",
    "\n",
    "# Training data\n",
    "path1 = MRI + 'train/'\n",
    "path2 = MRI + 'trainannot/'\n",
    "trainimglist = glob.glob(path1 + '/*.jpg')\n",
    "trainimglist.sort()\n",
    "trainannotlist = glob.glob(path2 + '/*.jpg')\n",
    "trainannotlist.sort()\n",
    "print (\"%d train images\" % (len(trainimglist)))\n",
    "print (\"%d train annotations\" % (len(trainannotlist)))\n",
    "\n",
    "# Test data\n",
    "path1 = MRI + 'test/'\n",
    "path2 = MRI + 'testannot/'\n",
    "testimglist = glob.glob(path1 + '/*.jpg')\n",
    "testimglist.sort()\n",
    "testannotlist = glob.glob(path2 + '/*.jpg')\n",
    "testannotlist.sort()\n",
    "print (\"%d test images\" % (len(testimglist)))\n",
    "print (\"%d test annotations\" % (len(testannotlist)))"
   ]
  },
  {
   "cell_type": "code",
   "execution_count": 3,
   "metadata": {
    "collapsed": true
   },
   "outputs": [],
   "source": [
    "height = 100\n",
    "width = 100\n",
    "nrclass = 2\n",
    "\n",
    "trainData = None\n",
    "trainLabel = None\n",
    "trainLabelOneHot = None\n",
    "trainlen = len(trainimglist)\n",
    "\n",
    "testData = None\n",
    "testLabel = None\n",
    "testLabelOneHot = None\n",
    "testlen = len(testimglist)"
   ]
  },
  {
   "cell_type": "code",
   "execution_count": 4,
   "metadata": {
    "collapsed": false
   },
   "outputs": [],
   "source": [
    "def DenseToOneHot(labels_dense, num_classes):\n",
    "    # Convert class labels from scalars to one-hot vectors. \n",
    "    num_labels = labels_dense.shape[0]\n",
    "    index_offset = np.arange(num_labels) * num_classes\n",
    "    labels_one_hot = np.zeros((num_labels, num_classes))\n",
    "    labels_one_hot.flat[index_offset + labels_dense.ravel()] = 1\n",
    "    return labels_one_hot"
   ]
  },
  {
   "cell_type": "code",
   "execution_count": 5,
   "metadata": {
    "collapsed": false
   },
   "outputs": [
    {
     "name": "stdout",
     "output_type": "stream",
     "text": [
      "Train data process done.\n"
     ]
    }
   ],
   "source": [
    "\"\"\" Train data process \"\"\" \n",
    "for (f1, f2, i) in zip(trainimglist, trainannotlist, range(trainlen)):\n",
    "    # print (\"[%02d/%02d]f1: %sf2: %s\" % (i, trainlen, f1, f2))\n",
    "    \n",
    "    # Train image\n",
    "    img1 = Image.open(f1)\n",
    "    img1 = img1.resize((height, width))\n",
    "    gray  = np.array(img1).reshape(1, height, width, 1)\n",
    "    gray = gray/255\n",
    "    # Train label\n",
    "    img2 = Image.open(f2)\n",
    "    img2 = img2.resize((height, width), Image.NEAREST)\n",
    "    label = np.array(img2).reshape(1, height, width, 1)\n",
    "    label = label/255\n",
    "    # Stack images and labels\n",
    "    if i == 0: \n",
    "        trainData =gray\n",
    "        trainLabel = label\n",
    "    else:\n",
    "        trainData = np.concatenate((trainData, gray), axis=0)\n",
    "        trainLabel = np.concatenate((trainLabel, label), axis=0)\n",
    "ntrain = len(trainData)\n",
    "\n",
    "\n",
    "# Onehot-coded label\n",
    "trainLabelOneHot = np.zeros((trainLabel.shape[0], trainLabel.shape[1], trainLabel.shape[2], nrclass))\n",
    "for row in range(height):\n",
    "    for col in range(width):\n",
    "        single = trainLabel[:, row, col, 0]\n",
    "        oneHot = DenseToOneHot(single, nrclass) # (367,) => (367, 22)\n",
    "        trainLabelOneHot[:, row, col, :] = oneHot\n",
    "print (\"Train data process done.\")"
   ]
  },
  {
   "cell_type": "code",
   "execution_count": 6,
   "metadata": {
    "collapsed": false
   },
   "outputs": [
    {
     "name": "stdout",
     "output_type": "stream",
     "text": [
      "Test data process done.\n"
     ]
    }
   ],
   "source": [
    "\"\"\" Test data process \"\"\" \n",
    "for (f1, f2, i) in zip(testimglist, testannotlist, range(testlen)):\n",
    "    # print (\"[%02d/%02d]f1: %sf2: %s\" % (i, testlen, f1, f2))\n",
    "    \n",
    "    # Train image\n",
    "    img1 = Image.open(f1)\n",
    "    img1 = img1.resize((height, width))\n",
    "    gray  = np.array(img1).reshape(1, height, width, 1)\n",
    "    gray = gray/255\n",
    "    \n",
    "    # Train label\n",
    "    img2 = Image.open(f2)\n",
    "    img2 = img2.resize((height, width), Image.NEAREST)\n",
    "    label = np.array(img2).reshape(1, height, width, 1)\n",
    "    label = label/255\n",
    "    # Stack images and labels\n",
    "    if i == 0: \n",
    "        testData = gray\n",
    "        testLabel = label\n",
    "    else:\n",
    "        testData = np.concatenate((testData, gray), axis=0)\n",
    "        testLabel = np.concatenate((testLabel, label), axis=0)\n",
    "\n",
    "        \n",
    "# Onehot-coded label\n",
    "testLabelOneHot = np.zeros((testLabel.shape[0], testLabel.shape[1], testLabel.shape[2], nrclass))\n",
    "for row in range(height):\n",
    "    for col in range(width):\n",
    "        single = testLabel[:, row, col, 0]\n",
    "        oneHot = DenseToOneHot(single, nrclass) # (367,) => (367, 22)\n",
    "        testLabelOneHot[:, row, col, :] = oneHot\n",
    "print (\"Test data process done.\")"
   ]
  },
  {
   "cell_type": "code",
   "execution_count": 7,
   "metadata": {
    "collapsed": false
   },
   "outputs": [
    {
     "name": "stdout",
     "output_type": "stream",
     "text": [
      "Shape of 'trainData' is (960, 100, 100, 1)\n",
      "Shape of 'trainLabel' is (960, 100, 100, 1)\n",
      "Shape of 'trainLabelOneHot' is (960, 100, 100, 2)\n",
      "Shape of 'testData' is (160, 100, 100, 1)\n",
      "Shape of 'testLabel' is (160, 100, 100, 1)\n",
      "Shape of 'testLabelOneHot' is (160, 100, 100, 2)\n"
     ]
    }
   ],
   "source": [
    "print (\"Shape of 'trainData' is %s\" % (trainData.shape,))\n",
    "print (\"Shape of 'trainLabel' is %s\" % (trainLabel.shape,))\n",
    "print (\"Shape of 'trainLabelOneHot' is %s\" % (trainLabelOneHot.shape,))\n",
    "print (\"Shape of 'testData' is %s\" % (testData.shape,))\n",
    "print (\"Shape of 'testLabel' is %s\" % (testLabel.shape,))\n",
    "print (\"Shape of 'testLabelOneHot' is %s\" % (testLabelOneHot.shape,))"
   ]
  },
  {
   "cell_type": "code",
   "execution_count": 8,
   "metadata": {
    "collapsed": false
   },
   "outputs": [],
   "source": [
    "# Define functions\n",
    "x = tf.placeholder(tf.float32, [None, height, width, 1])\n",
    "y = tf.placeholder(tf.float32, [None, height, width, nrclass])\n",
    "keepprob = tf.placeholder(tf.float32)\n",
    "# Kernels\n",
    "ksize = 7\n",
    "fsize = 64\n",
    "initstdev = 0.1\n",
    "# initfun = tf.random_normal_initializer(mean=0.0, stddev=initstdev))\n",
    "initfun = None\n",
    "weights = {\n",
    "    'ce1': tf.get_variable(\"ce1\", shape = [ksize, ksize, 1, fsize], initializer = initfun) ,\n",
    "    'ce2': tf.get_variable(\"ce2\", shape = [ksize, ksize, fsize, fsize], initializer = initfun) ,\n",
    "    'ce3': tf.get_variable(\"ce3\", shape = [ksize, ksize, fsize, fsize], initializer = initfun),\n",
    "    'ce4': tf.get_variable(\"ce4\", shape = [ksize, ksize, fsize, fsize], initializer = initfun),\n",
    "    'cd4': tf.get_variable(\"cd4\", shape = [ksize, ksize, fsize, fsize], initializer = initfun),\n",
    "    'cd3': tf.get_variable(\"cd3\", shape = [ksize, ksize, fsize, fsize], initializer = initfun),\n",
    "    'cd2': tf.get_variable(\"cd2\", shape = [ksize, ksize, fsize, fsize], initializer = initfun),\n",
    "    'cd1': tf.get_variable(\"cd1\", shape = [ksize, ksize, fsize, fsize], initializer = initfun),\n",
    "    'dense_inner_prod': tf.get_variable(\"dense_inner_prod\", shape= [1, 1, fsize, nrclass]\n",
    "                                       , initializer = initfun) # <= 1x1conv\n",
    "}\n",
    "biases = {\n",
    "    'be1': tf.get_variable(\"be1\", shape = [fsize], initializer = tf.constant_initializer(value=0.0)),\n",
    "    'be2': tf.get_variable(\"be2\", shape = [fsize], initializer = tf.constant_initializer(value=0.0)),\n",
    "    'be3': tf.get_variable(\"be3\", shape = [fsize], initializer = tf.constant_initializer(value=0.0)),\n",
    "    'be4': tf.get_variable(\"be4\", shape = [fsize], initializer = tf.constant_initializer(value=0.0)),\n",
    "    'bd4': tf.get_variable(\"bd4\", shape = [fsize], initializer = tf.constant_initializer(value=0.0)),\n",
    "    'bd3': tf.get_variable(\"bd3\", shape = [fsize], initializer = tf.constant_initializer(value=0.0)),\n",
    "    'bd2': tf.get_variable(\"bd2\", shape = [fsize], initializer = tf.constant_initializer(value=0.0)),\n",
    "    'bd1': tf.get_variable(\"bd1\", shape = [fsize], initializer = tf.constant_initializer(value=0.0))\n",
    "}"
   ]
  },
  {
   "cell_type": "code",
   "execution_count": 9,
   "metadata": {
    "collapsed": true
   },
   "outputs": [],
   "source": [
    "# input : [m, h, w, c]\n",
    "def Unpooling(inputOrg, size, mask=None):\n",
    "    # m, c, h, w order\n",
    "    m = size[0]\n",
    "    h = size[1]\n",
    "    w = size[2]\n",
    "    c = size[3]\n",
    "    \n",
    "    input = tf.transpose(inputOrg, [0, 3, 1, 2]) # m, c, h, w 순으로 변경\n",
    "    x = tf.reshape(input, [-1, 1])\n",
    "    k = np.float32(np.array([1.0, 1.0]).reshape([1,-1]))\n",
    "    output = tf.matmul(x, k)\n",
    "    output = tf.reshape(output,[-1, c, h, w * 2])\n",
    "    \n",
    "    # m, c, w, h\n",
    "    xx = tf.transpose(output, [0, 1, 3, 2]) \n",
    "    xx = tf.reshape(xx,[-1, 1])\n",
    "    output = tf.matmul(xx, k)\n",
    "    \n",
    "    # m, c, w, h\n",
    "    output = tf.reshape(output, [-1, c, w * 2, h * 2])\n",
    "    output = tf.transpose(output, [0, 3, 2, 1])\n",
    "    outshape = tf.pack([m, h * 2, w * 2, c])\n",
    "    if mask != None:\n",
    "        dense_mask = tf.sparse_to_dense(mask, outshape, output, 0)\n",
    "        return output, dense_mask\n",
    "    else:\n",
    "        return output\n"
   ]
  },
  {
   "cell_type": "code",
   "execution_count": 10,
   "metadata": {
    "collapsed": false,
    "scrolled": true
   },
   "outputs": [
    {
     "name": "stdout",
     "output_type": "stream",
     "text": [
      "Network ready\n"
     ]
    }
   ],
   "source": [
    "# DeconvNet Model\n",
    "def Model(_X, _W, _b, _keepprob):\n",
    "    use_bias = 0\n",
    "    # Encoder 101 x 101\n",
    "    encoder1 = tf.nn.conv2d(_X, _W['ce1'], strides=[1, 1, 1, 1], padding='SAME')\n",
    "    if use_bias:\n",
    "        encoder1 = tf.nn.bias_add(encoder1, _b['be1'])\n",
    "    encoder1 = tf.nn.batch_normalization(encoder1,0.001,1.0,0,1,0.0001)\n",
    "    encoder1 = tf.nn.relu(encoder1)\n",
    "    encoder1 = tf.nn.max_pool(encoder1, ksize=[1, 2, 2, 1], strides=[1, 2, 2, 1], padding='SAME')\n",
    "    encoder1 = tf.nn.dropout(encoder1, _keepprob)\n",
    "    # 51 x 51\n",
    "    encoder2 = tf.nn.conv2d(encoder1, _W['ce2'], strides=[1, 1, 1, 1], padding='SAME')\n",
    "    if use_bias:\n",
    "        encoder2 = tf.nn.bias_add(encoder2, _b['be2'])\n",
    "    encoder2 = tf.nn.batch_normalization(encoder2, 0.001, 1.0, 0, 1, 0.0001)\n",
    "    encoder2 = tf.nn.relu(encoder2)\n",
    "    encoder2 = tf.nn.max_pool(encoder2, ksize=[1, 2, 2, 1], strides=[1, 2, 2, 1], padding='SAME')\n",
    "    encoder2 = tf.nn.dropout(encoder2, _keepprob)\n",
    "    # 26 x 26\n",
    "    encoder3 = tf.nn.conv2d(encoder2, _W['ce3'], strides=[1, 1, 1, 1], padding='SAME')\n",
    "    if use_bias:\n",
    "        encoder3 = tf.nn.bias_add(encoder3, _b['be3'])\n",
    "    encoder3 = tf.nn.batch_normalization(encoder3, 0.001, 1.0, 0, 1, 0.0001)\n",
    "    encoder3 = tf.nn.relu(encoder3)\n",
    "    encoder3 = tf.nn.max_pool(encoder3, ksize=[1, 2, 2, 1], strides=[1, 2, 2, 1], padding='SAME')\n",
    "    encoder3 = tf.nn.dropout(encoder3, _keepprob)\n",
    "    # 13 x 13\n",
    "    encoder4 = tf.nn.conv2d(encoder3, _W['ce4'], strides=[1, 1, 1, 1], padding='SAME')\n",
    "    if use_bias:\n",
    "        encoder4 = tf.nn.bias_add(encoder4, _b['be4'])\n",
    "    encoder4 = tf.nn.batch_normalization(encoder4, 0.001, 1.0, 0, 1, 0.0001)\n",
    "    encoder4 = tf.nn.relu(encoder4)\n",
    "    encoder4 = tf.nn.max_pool(encoder4, ksize=[1, 2, 2, 1], strides=[1, 2, 2, 1], padding='SAME')\n",
    "    encoder4 = tf.nn.dropout(encoder4, _keepprob)\n",
    "    # 7 x 7\n",
    "\n",
    "    # Decoder 7 x 7 (128/16 = 8) fsize: 64\n",
    "    decoder4 = Unpooling(encoder4, [tf.shape(_X)[0], height / 16, width / 16, fsize])\n",
    "    decoder4 = tf.nn.conv2d(decoder4, _W['cd4'], strides=[1, 1, 1, 1], padding='SAME')\n",
    "    if use_bias:\n",
    "        decoder4 = tf.nn.bias_add(decoder4, _b['bd4'])\n",
    "    decoder4 = tf.nn.batch_normalization(decoder4, 0.001, 1.0, 0, 1, 0.0001)\n",
    "    decoder4 = tf.nn.relu(decoder4)\n",
    "    decoder4 = tf.nn.dropout(decoder4, _keepprob)\n",
    "    # 13 x 13\n",
    "    decoder3 = Unpooling(encoder3, [tf.shape(_X)[0], height/8, width/8, fsize])\n",
    "    decoder3 = tf.nn.conv2d(decoder3, _W['cd3'], strides=[1, 1, 1, 1], padding='SAME')\n",
    "    if use_bias:\n",
    "        decoder3 = tf.nn.bias_add(decoder3, _b['bd3'])\n",
    "    decoder3 = tf.nn.batch_normalization(decoder3, 0.001, 1.0, 0, 1, 0.0001)\n",
    "    decoder3 = tf.nn.relu(decoder3)\n",
    "    decoder3 = tf.nn.dropout(decoder3, _keepprob)\n",
    "    # 26 x 26\n",
    "    decoder2 = Unpooling(decoder3, [tf.shape(_X)[0], height/4, width/4, fsize])\n",
    "    decoder2 = tf.nn.conv2d(decoder2, _W['cd2'], strides=[1, 1, 1, 1], padding='SAME')\n",
    "    if use_bias:\n",
    "        decoder2 = tf.nn.bias_add(decoder2, _b['bd2'])\n",
    "    decoder2 = tf.nn.batch_normalization(decoder2, 0.001, 1.0, 0, 1, 0.0001)\n",
    "    decoder2 = tf.nn.relu(decoder2)\n",
    "    decoder2 = tf.nn.dropout(decoder2, _keepprob)\n",
    "    # 51 x 51\n",
    "    decoder1 = Unpooling(decoder2, [tf.shape(_X)[0], height / 2, width / 2, fsize])\n",
    "    decoder1 = tf.nn.conv2d(decoder1, _W['cd1'], strides=[1, 1, 1, 1], padding='SAME')\n",
    "    if use_bias:\n",
    "        decoder1 = tf.nn.bias_add(decoder1, _b['bd1'])\n",
    "    decoder1 = tf.nn.batch_normalization(decoder1, 0.001, 1.0, 0, 1.0, 0.0001)\n",
    "    decoder1 = tf.nn.relu(decoder1)\n",
    "    decoder1 = tf.nn.dropout(decoder1, _keepprob)\n",
    "    # 101 x 101\n",
    "    output = tf.nn.conv2d(decoder1, _W['dense_inner_prod'], strides=[1, 1, 1, 1], padding='SAME')\n",
    "    \n",
    "    result = {'output' : output,\n",
    "              'decoder1' : decoder1,\n",
    "              'decoder2' : decoder2,\n",
    "              'decoder3' : decoder3,\n",
    "              'decoder4' : decoder4,\n",
    "              'encoder4' : encoder4,\n",
    "              'encoder3' : encoder3,\n",
    "              'encoder2' : encoder2,\n",
    "              'encoder1' : encoder1,              \n",
    "             }\n",
    "    \n",
    "    return result\n",
    "\n",
    "print (\"Network ready\")"
   ]
  },
  {
   "cell_type": "code",
   "execution_count": 11,
   "metadata": {
    "collapsed": false
   },
   "outputs": [],
   "source": [
    "pred = Model(x, weights, biases, keepprob)\n",
    "lin_pred = tf.reshape(pred['output'], shape=[-1, nrclass])\n",
    "lin_y = tf.reshape(y, shape=[-1, nrclass])\n",
    "cost = tf.reduce_mean(tf.nn.softmax_cross_entropy_with_logits(lin_pred, lin_y))\n",
    "# Class label\n",
    "predmax = tf.argmax(pred['output'], 3)\n",
    "ymax = tf.argmax(y, 3)\n",
    "# Accuracy\n",
    "corr = tf.equal(tf.argmax(y,3), tf.argmax(pred['output'], 3)) \n",
    "accr = tf.reduce_mean(tf.cast(corr, \"float\"))\n",
    "# Optimizer\n",
    "optm = tf.train.AdamOptimizer(0.0001).minimize(cost)\n",
    "batch_size = 128\n",
    "n_epochs = 1000"
   ]
  },
  {
   "cell_type": "code",
   "execution_count": 12,
   "metadata": {
    "collapsed": false
   },
   "outputs": [
    {
     "name": "stdout",
     "output_type": "stream",
     "text": [
      "output :  Tensor(\"Conv2D_8:0\", shape=(?, 100, 100, 2), dtype=float32) \n",
      "\n",
      "decoder1 :  Tensor(\"dropout_7/mul:0\", shape=(?, 100, 100, 64), dtype=float32) \n",
      "\n",
      "decoder2 :  Tensor(\"dropout_6/mul:0\", shape=(?, 50, 50, 64), dtype=float32) \n",
      "\n",
      "decoder3 :  Tensor(\"dropout_5/mul:0\", shape=(?, 24, 24, 64), dtype=float32) \n",
      "\n",
      "decoder4 :  Tensor(\"dropout_4/mul:0\", shape=(?, 12, 12, 64), dtype=float32) \n",
      "\n",
      "encoder4 :  Tensor(\"dropout_3/mul:0\", shape=(?, 7, 7, 64), dtype=float32) \n",
      "\n",
      "encoder3 :  Tensor(\"dropout_2/mul:0\", shape=(?, 13, 13, 64), dtype=float32) \n",
      "\n",
      "encoder2 :  Tensor(\"dropout_1/mul:0\", shape=(?, 25, 25, 64), dtype=float32) \n",
      "\n",
      "encoder1 :  Tensor(\"dropout/mul:0\", shape=(?, 50, 50, 64), dtype=float32)\n"
     ]
    }
   ],
   "source": [
    "print 'output : ', pred['output'], '\\n'\n",
    "print 'decoder1 : ', pred['decoder1'], '\\n'\n",
    "print 'decoder2 : ', pred['decoder2'], '\\n'\n",
    "print 'decoder3 : ', pred['decoder3'], '\\n'\n",
    "print 'decoder4 : ', pred['decoder4'], '\\n'\n",
    "print 'encoder4 : ', pred['encoder4'], '\\n'\n",
    "print 'encoder3 : ', pred['encoder3'], '\\n'\n",
    "print 'encoder2 : ', pred['encoder2'], '\\n'\n",
    "print 'encoder1 : ', pred['encoder1']\n"
   ]
  },
  {
   "cell_type": "code",
   "execution_count": 13,
   "metadata": {
    "collapsed": false
   },
   "outputs": [
    {
     "name": "stdout",
     "output_type": "stream",
     "text": [
      "checkpoint: None\n",
      "Couldn't find checkpoint to restore from. Starting over.\n"
     ]
    },
    {
     "ename": "InvalidArgumentError",
     "evalue": "Input to reshape is a tensor with 2768896 values, but the requested shape requires a multiple of 18432\n\t [[Node: Reshape_5 = Reshape[T=DT_FLOAT, Tshape=DT_INT32, _device=\"/job:localhost/replica:0/task:0/gpu:0\"](MatMul_2, Reshape_5/shape)]]\n\nCaused by op u'Reshape_5', defined at:\n  File \"/usr/lib/python2.7/runpy.py\", line 174, in _run_module_as_main\n    \"__main__\", fname, loader, pkg_name)\n  File \"/usr/lib/python2.7/runpy.py\", line 72, in _run_code\n    exec code in run_globals\n  File \"/usr/local/lib/python2.7/dist-packages/ipykernel/__main__.py\", line 3, in <module>\n    app.launch_new_instance()\n  File \"/usr/local/lib/python2.7/dist-packages/traitlets/config/application.py\", line 658, in launch_instance\n    app.start()\n  File \"/usr/local/lib/python2.7/dist-packages/ipykernel/kernelapp.py\", line 474, in start\n    ioloop.IOLoop.instance().start()\n  File \"/usr/lib/python2.7/dist-packages/zmq/eventloop/ioloop.py\", line 162, in start\n    super(ZMQIOLoop, self).start()\n  File \"/usr/lib/python2.7/dist-packages/tornado/ioloop.py\", line 866, in start\n    handler_func(fd_obj, events)\n  File \"/usr/lib/python2.7/dist-packages/tornado/stack_context.py\", line 275, in null_wrapper\n    return fn(*args, **kwargs)\n  File \"/usr/lib/python2.7/dist-packages/zmq/eventloop/zmqstream.py\", line 440, in _handle_events\n    self._handle_recv()\n  File \"/usr/lib/python2.7/dist-packages/zmq/eventloop/zmqstream.py\", line 472, in _handle_recv\n    self._run_callback(callback, msg)\n  File \"/usr/lib/python2.7/dist-packages/zmq/eventloop/zmqstream.py\", line 414, in _run_callback\n    callback(*args, **kwargs)\n  File \"/usr/lib/python2.7/dist-packages/tornado/stack_context.py\", line 275, in null_wrapper\n    return fn(*args, **kwargs)\n  File \"/usr/local/lib/python2.7/dist-packages/ipykernel/kernelbase.py\", line 276, in dispatcher\n    return self.dispatch_shell(stream, msg)\n  File \"/usr/local/lib/python2.7/dist-packages/ipykernel/kernelbase.py\", line 228, in dispatch_shell\n    handler(stream, idents, msg)\n  File \"/usr/local/lib/python2.7/dist-packages/ipykernel/kernelbase.py\", line 390, in execute_request\n    user_expressions, allow_stdin)\n  File \"/usr/local/lib/python2.7/dist-packages/ipykernel/ipkernel.py\", line 196, in do_execute\n    res = shell.run_cell(code, store_history=store_history, silent=silent)\n  File \"/usr/local/lib/python2.7/dist-packages/ipykernel/zmqshell.py\", line 501, in run_cell\n    return super(ZMQInteractiveShell, self).run_cell(*args, **kwargs)\n  File \"/usr/local/lib/python2.7/dist-packages/IPython/core/interactiveshell.py\", line 2717, in run_cell\n    interactivity=interactivity, compiler=compiler, result=result)\n  File \"/usr/local/lib/python2.7/dist-packages/IPython/core/interactiveshell.py\", line 2821, in run_ast_nodes\n    if self.run_code(code, result):\n  File \"/usr/local/lib/python2.7/dist-packages/IPython/core/interactiveshell.py\", line 2881, in run_code\n    exec(code_obj, self.user_global_ns, self.user_ns)\n  File \"<ipython-input-11-3fa97fcf0624>\", line 1, in <module>\n    pred = Model(x, weights, biases, keepprob)\n  File \"<ipython-input-10-382a30c84f24>\", line 47, in Model\n    decoder3 = Unpooling(encoder3, [tf.shape(_X)[0], height/8, width/8, fsize])\n  File \"<ipython-input-9-9ef2f666f776>\", line 13, in Unpooling\n    output = tf.reshape(output,[-1, c, h, w * 2])\n  File \"/usr/local/lib/python2.7/dist-packages/tensorflow/python/ops/gen_array_ops.py\", line 1977, in reshape\n    name=name)\n  File \"/usr/local/lib/python2.7/dist-packages/tensorflow/python/framework/op_def_library.py\", line 749, in apply_op\n    op_def=op_def)\n  File \"/usr/local/lib/python2.7/dist-packages/tensorflow/python/framework/ops.py\", line 2380, in create_op\n    original_op=self._default_original_op, op_def=op_def)\n  File \"/usr/local/lib/python2.7/dist-packages/tensorflow/python/framework/ops.py\", line 1298, in __init__\n    self._traceback = _extract_stack()\n\nInvalidArgumentError (see above for traceback): Input to reshape is a tensor with 2768896 values, but the requested shape requires a multiple of 18432\n\t [[Node: Reshape_5 = Reshape[T=DT_FLOAT, Tshape=DT_INT32, _device=\"/job:localhost/replica:0/task:0/gpu:0\"](MatMul_2, Reshape_5/shape)]]\n",
     "output_type": "error",
     "traceback": [
      "\u001b[0;31m---------------------------------------------------------------------------\u001b[0m",
      "\u001b[0;31mInvalidArgumentError\u001b[0m                      Traceback (most recent call last)",
      "\u001b[0;32m<ipython-input-13-7288e4be7aac>\u001b[0m in \u001b[0;36m<module>\u001b[0;34m()\u001b[0m\n\u001b[1;32m     21\u001b[0m             \u001b[0mbatchData\u001b[0m \u001b[0;34m=\u001b[0m \u001b[0mtrainData\u001b[0m\u001b[0;34m[\u001b[0m\u001b[0mrandidx\u001b[0m\u001b[0;34m]\u001b[0m\u001b[0;34m\u001b[0m\u001b[0m\n\u001b[1;32m     22\u001b[0m             \u001b[0mbatchLabel\u001b[0m \u001b[0;34m=\u001b[0m \u001b[0mtrainLabelOneHot\u001b[0m\u001b[0;34m[\u001b[0m\u001b[0mrandidx\u001b[0m\u001b[0;34m]\u001b[0m\u001b[0;34m\u001b[0m\u001b[0m\n\u001b[0;32m---> 23\u001b[0;31m             \u001b[0msess\u001b[0m\u001b[0;34m.\u001b[0m\u001b[0mrun\u001b[0m\u001b[0;34m(\u001b[0m\u001b[0moptm\u001b[0m\u001b[0;34m,\u001b[0m \u001b[0mfeed_dict\u001b[0m\u001b[0;34m=\u001b[0m\u001b[0;34m{\u001b[0m\u001b[0mx\u001b[0m\u001b[0;34m:\u001b[0m \u001b[0mbatchData\u001b[0m\u001b[0;34m,\u001b[0m \u001b[0my\u001b[0m\u001b[0;34m:\u001b[0m \u001b[0mbatchLabel\u001b[0m\u001b[0;34m,\u001b[0m \u001b[0mkeepprob\u001b[0m\u001b[0;34m:\u001b[0m \u001b[0;36m0.7\u001b[0m\u001b[0;34m}\u001b[0m\u001b[0;34m)\u001b[0m \u001b[0;31m# <== Optm is done here!\u001b[0m\u001b[0;34m\u001b[0m\u001b[0m\n\u001b[0m\u001b[1;32m     24\u001b[0m             \u001b[0mtrainLoss\u001b[0m\u001b[0;34m.\u001b[0m\u001b[0mappend\u001b[0m\u001b[0;34m(\u001b[0m\u001b[0msess\u001b[0m\u001b[0;34m.\u001b[0m\u001b[0mrun\u001b[0m\u001b[0;34m(\u001b[0m\u001b[0mcost\u001b[0m\u001b[0;34m,\u001b[0m \u001b[0mfeed_dict\u001b[0m\u001b[0;34m=\u001b[0m\u001b[0;34m{\u001b[0m\u001b[0mx\u001b[0m\u001b[0;34m:\u001b[0m \u001b[0mbatchData\u001b[0m\u001b[0;34m,\u001b[0m \u001b[0my\u001b[0m\u001b[0;34m:\u001b[0m \u001b[0mbatchLabel\u001b[0m\u001b[0;34m,\u001b[0m \u001b[0mkeepprob\u001b[0m\u001b[0;34m:\u001b[0m \u001b[0;36m1.\u001b[0m\u001b[0;34m}\u001b[0m\u001b[0;34m)\u001b[0m\u001b[0;34m)\u001b[0m\u001b[0;34m\u001b[0m\u001b[0m\n\u001b[1;32m     25\u001b[0m             \u001b[0mtrainAcc\u001b[0m\u001b[0;34m.\u001b[0m\u001b[0mappend\u001b[0m\u001b[0;34m(\u001b[0m\u001b[0msess\u001b[0m\u001b[0;34m.\u001b[0m\u001b[0mrun\u001b[0m\u001b[0;34m(\u001b[0m\u001b[0maccr\u001b[0m\u001b[0;34m,\u001b[0m \u001b[0mfeed_dict\u001b[0m\u001b[0;34m=\u001b[0m\u001b[0;34m{\u001b[0m\u001b[0mx\u001b[0m\u001b[0;34m:\u001b[0m \u001b[0mbatchData\u001b[0m\u001b[0;34m,\u001b[0m \u001b[0my\u001b[0m\u001b[0;34m:\u001b[0m \u001b[0mbatchLabel\u001b[0m\u001b[0;34m,\u001b[0m \u001b[0mkeepprob\u001b[0m\u001b[0;34m:\u001b[0m \u001b[0;36m1.\u001b[0m\u001b[0;34m}\u001b[0m\u001b[0;34m)\u001b[0m\u001b[0;34m)\u001b[0m\u001b[0;34m\u001b[0m\u001b[0m\n",
      "\u001b[0;32m/usr/local/lib/python2.7/dist-packages/tensorflow/python/client/session.pyc\u001b[0m in \u001b[0;36mrun\u001b[0;34m(self, fetches, feed_dict, options, run_metadata)\u001b[0m\n\u001b[1;32m    715\u001b[0m     \u001b[0;32mtry\u001b[0m\u001b[0;34m:\u001b[0m\u001b[0;34m\u001b[0m\u001b[0m\n\u001b[1;32m    716\u001b[0m       result = self._run(None, fetches, feed_dict, options_ptr,\n\u001b[0;32m--> 717\u001b[0;31m                          run_metadata_ptr)\n\u001b[0m\u001b[1;32m    718\u001b[0m       \u001b[0;32mif\u001b[0m \u001b[0mrun_metadata\u001b[0m\u001b[0;34m:\u001b[0m\u001b[0;34m\u001b[0m\u001b[0m\n\u001b[1;32m    719\u001b[0m         \u001b[0mproto_data\u001b[0m \u001b[0;34m=\u001b[0m \u001b[0mtf_session\u001b[0m\u001b[0;34m.\u001b[0m\u001b[0mTF_GetBuffer\u001b[0m\u001b[0;34m(\u001b[0m\u001b[0mrun_metadata_ptr\u001b[0m\u001b[0;34m)\u001b[0m\u001b[0;34m\u001b[0m\u001b[0m\n",
      "\u001b[0;32m/usr/local/lib/python2.7/dist-packages/tensorflow/python/client/session.pyc\u001b[0m in \u001b[0;36m_run\u001b[0;34m(self, handle, fetches, feed_dict, options, run_metadata)\u001b[0m\n\u001b[1;32m    913\u001b[0m     \u001b[0;32mif\u001b[0m \u001b[0mfinal_fetches\u001b[0m \u001b[0;32mor\u001b[0m \u001b[0mfinal_targets\u001b[0m\u001b[0;34m:\u001b[0m\u001b[0;34m\u001b[0m\u001b[0m\n\u001b[1;32m    914\u001b[0m       results = self._do_run(handle, final_targets, final_fetches,\n\u001b[0;32m--> 915\u001b[0;31m                              feed_dict_string, options, run_metadata)\n\u001b[0m\u001b[1;32m    916\u001b[0m     \u001b[0;32melse\u001b[0m\u001b[0;34m:\u001b[0m\u001b[0;34m\u001b[0m\u001b[0m\n\u001b[1;32m    917\u001b[0m       \u001b[0mresults\u001b[0m \u001b[0;34m=\u001b[0m \u001b[0;34m[\u001b[0m\u001b[0;34m]\u001b[0m\u001b[0;34m\u001b[0m\u001b[0m\n",
      "\u001b[0;32m/usr/local/lib/python2.7/dist-packages/tensorflow/python/client/session.pyc\u001b[0m in \u001b[0;36m_do_run\u001b[0;34m(self, handle, target_list, fetch_list, feed_dict, options, run_metadata)\u001b[0m\n\u001b[1;32m    963\u001b[0m     \u001b[0;32mif\u001b[0m \u001b[0mhandle\u001b[0m \u001b[0;32mis\u001b[0m \u001b[0mNone\u001b[0m\u001b[0;34m:\u001b[0m\u001b[0;34m\u001b[0m\u001b[0m\n\u001b[1;32m    964\u001b[0m       return self._do_call(_run_fn, self._session, feed_dict, fetch_list,\n\u001b[0;32m--> 965\u001b[0;31m                            target_list, options, run_metadata)\n\u001b[0m\u001b[1;32m    966\u001b[0m     \u001b[0;32melse\u001b[0m\u001b[0;34m:\u001b[0m\u001b[0;34m\u001b[0m\u001b[0m\n\u001b[1;32m    967\u001b[0m       return self._do_call(_prun_fn, self._session, handle, feed_dict,\n",
      "\u001b[0;32m/usr/local/lib/python2.7/dist-packages/tensorflow/python/client/session.pyc\u001b[0m in \u001b[0;36m_do_call\u001b[0;34m(self, fn, *args)\u001b[0m\n\u001b[1;32m    983\u001b[0m         \u001b[0;32mexcept\u001b[0m \u001b[0mKeyError\u001b[0m\u001b[0;34m:\u001b[0m\u001b[0;34m\u001b[0m\u001b[0m\n\u001b[1;32m    984\u001b[0m           \u001b[0;32mpass\u001b[0m\u001b[0;34m\u001b[0m\u001b[0m\n\u001b[0;32m--> 985\u001b[0;31m       \u001b[0;32mraise\u001b[0m \u001b[0mtype\u001b[0m\u001b[0;34m(\u001b[0m\u001b[0me\u001b[0m\u001b[0;34m)\u001b[0m\u001b[0;34m(\u001b[0m\u001b[0mnode_def\u001b[0m\u001b[0;34m,\u001b[0m \u001b[0mop\u001b[0m\u001b[0;34m,\u001b[0m \u001b[0mmessage\u001b[0m\u001b[0;34m)\u001b[0m\u001b[0;34m\u001b[0m\u001b[0m\n\u001b[0m\u001b[1;32m    986\u001b[0m \u001b[0;34m\u001b[0m\u001b[0m\n\u001b[1;32m    987\u001b[0m   \u001b[0;32mdef\u001b[0m \u001b[0m_extend_graph\u001b[0m\u001b[0;34m(\u001b[0m\u001b[0mself\u001b[0m\u001b[0;34m)\u001b[0m\u001b[0;34m:\u001b[0m\u001b[0;34m\u001b[0m\u001b[0m\n",
      "\u001b[0;31mInvalidArgumentError\u001b[0m: Input to reshape is a tensor with 2768896 values, but the requested shape requires a multiple of 18432\n\t [[Node: Reshape_5 = Reshape[T=DT_FLOAT, Tshape=DT_INT32, _device=\"/job:localhost/replica:0/task:0/gpu:0\"](MatMul_2, Reshape_5/shape)]]\n\nCaused by op u'Reshape_5', defined at:\n  File \"/usr/lib/python2.7/runpy.py\", line 174, in _run_module_as_main\n    \"__main__\", fname, loader, pkg_name)\n  File \"/usr/lib/python2.7/runpy.py\", line 72, in _run_code\n    exec code in run_globals\n  File \"/usr/local/lib/python2.7/dist-packages/ipykernel/__main__.py\", line 3, in <module>\n    app.launch_new_instance()\n  File \"/usr/local/lib/python2.7/dist-packages/traitlets/config/application.py\", line 658, in launch_instance\n    app.start()\n  File \"/usr/local/lib/python2.7/dist-packages/ipykernel/kernelapp.py\", line 474, in start\n    ioloop.IOLoop.instance().start()\n  File \"/usr/lib/python2.7/dist-packages/zmq/eventloop/ioloop.py\", line 162, in start\n    super(ZMQIOLoop, self).start()\n  File \"/usr/lib/python2.7/dist-packages/tornado/ioloop.py\", line 866, in start\n    handler_func(fd_obj, events)\n  File \"/usr/lib/python2.7/dist-packages/tornado/stack_context.py\", line 275, in null_wrapper\n    return fn(*args, **kwargs)\n  File \"/usr/lib/python2.7/dist-packages/zmq/eventloop/zmqstream.py\", line 440, in _handle_events\n    self._handle_recv()\n  File \"/usr/lib/python2.7/dist-packages/zmq/eventloop/zmqstream.py\", line 472, in _handle_recv\n    self._run_callback(callback, msg)\n  File \"/usr/lib/python2.7/dist-packages/zmq/eventloop/zmqstream.py\", line 414, in _run_callback\n    callback(*args, **kwargs)\n  File \"/usr/lib/python2.7/dist-packages/tornado/stack_context.py\", line 275, in null_wrapper\n    return fn(*args, **kwargs)\n  File \"/usr/local/lib/python2.7/dist-packages/ipykernel/kernelbase.py\", line 276, in dispatcher\n    return self.dispatch_shell(stream, msg)\n  File \"/usr/local/lib/python2.7/dist-packages/ipykernel/kernelbase.py\", line 228, in dispatch_shell\n    handler(stream, idents, msg)\n  File \"/usr/local/lib/python2.7/dist-packages/ipykernel/kernelbase.py\", line 390, in execute_request\n    user_expressions, allow_stdin)\n  File \"/usr/local/lib/python2.7/dist-packages/ipykernel/ipkernel.py\", line 196, in do_execute\n    res = shell.run_cell(code, store_history=store_history, silent=silent)\n  File \"/usr/local/lib/python2.7/dist-packages/ipykernel/zmqshell.py\", line 501, in run_cell\n    return super(ZMQInteractiveShell, self).run_cell(*args, **kwargs)\n  File \"/usr/local/lib/python2.7/dist-packages/IPython/core/interactiveshell.py\", line 2717, in run_cell\n    interactivity=interactivity, compiler=compiler, result=result)\n  File \"/usr/local/lib/python2.7/dist-packages/IPython/core/interactiveshell.py\", line 2821, in run_ast_nodes\n    if self.run_code(code, result):\n  File \"/usr/local/lib/python2.7/dist-packages/IPython/core/interactiveshell.py\", line 2881, in run_code\n    exec(code_obj, self.user_global_ns, self.user_ns)\n  File \"<ipython-input-11-3fa97fcf0624>\", line 1, in <module>\n    pred = Model(x, weights, biases, keepprob)\n  File \"<ipython-input-10-382a30c84f24>\", line 47, in Model\n    decoder3 = Unpooling(encoder3, [tf.shape(_X)[0], height/8, width/8, fsize])\n  File \"<ipython-input-9-9ef2f666f776>\", line 13, in Unpooling\n    output = tf.reshape(output,[-1, c, h, w * 2])\n  File \"/usr/local/lib/python2.7/dist-packages/tensorflow/python/ops/gen_array_ops.py\", line 1977, in reshape\n    name=name)\n  File \"/usr/local/lib/python2.7/dist-packages/tensorflow/python/framework/op_def_library.py\", line 749, in apply_op\n    op_def=op_def)\n  File \"/usr/local/lib/python2.7/dist-packages/tensorflow/python/framework/ops.py\", line 2380, in create_op\n    original_op=self._default_original_op, op_def=op_def)\n  File \"/usr/local/lib/python2.7/dist-packages/tensorflow/python/framework/ops.py\", line 1298, in __init__\n    self._traceback = _extract_stack()\n\nInvalidArgumentError (see above for traceback): Input to reshape is a tensor with 2768896 values, but the requested shape requires a multiple of 18432\n\t [[Node: Reshape_5 = Reshape[T=DT_FLOAT, Tshape=DT_INT32, _device=\"/job:localhost/replica:0/task:0/gpu:0\"](MatMul_2, Reshape_5/shape)]]\n"
     ]
    }
   ],
   "source": [
    "resumeTraining = True\n",
    "with tf.Session() as sess:\n",
    "    # you need to initialize all variables\n",
    "    tf.initialize_all_variables().run()\n",
    "    saver = tf.train.Saver()\n",
    "    checkpoint = tf.train.latest_checkpoint(\"nets/deconv_again\")\n",
    "    print (\"checkpoint: %s\" % (checkpoint))\n",
    "    if resumeTraining == False:\n",
    "        print \"Start from scratch\"\n",
    "    elif  checkpoint:\n",
    "        print \"Restoring from checkpoint\", checkpoint\n",
    "        saver.restore(sess, checkpoint)\n",
    "    else:\n",
    "        print \"Couldn't find checkpoint to restore from. Starting over.\"\n",
    "    \n",
    "    for epoch_i in range(n_epochs):\n",
    "        trainLoss = []; trainAcc = []\n",
    "        num_batch = int(ntrain/batch_size)+1\n",
    "        for _ in range(num_batch):\n",
    "            randidx = np.random.randint(ntrain, size=batch_size)\n",
    "            batchData = trainData[randidx]\n",
    "            batchLabel = trainLabelOneHot[randidx]\n",
    "            sess.run(optm, feed_dict={x: batchData, y: batchLabel, keepprob: 0.7}) # <== Optm is done here!\n",
    "            trainLoss.append(sess.run(cost, feed_dict={x: batchData, y: batchLabel, keepprob: 1.}))\n",
    "            trainAcc.append(sess.run(accr, feed_dict={x: batchData, y: batchLabel, keepprob: 1.}))\n",
    "        # Average loss and accuracy\n",
    "        trainLoss = np.mean(trainLoss)\n",
    "        trainAcc = np.mean(trainAcc)\n",
    "        # Run test\n",
    "        valLoss = sess.run(cost, feed_dict={x: testData, y: testLabelOneHot, keepprob: 1.})\n",
    "        valAcc = sess.run(accr, feed_dict={x: testData, y: testLabelOneHot, keepprob: 1.})\n",
    "        print (\"[%02d/%02d] trainLoss: %.4f trainAcc: %.2f valLoss: %.4f valAcc: %.2f\" \n",
    "               % (epoch_i, n_epochs, trainLoss, trainAcc, valLoss, valAcc))\n",
    "        # Save snapshot\n",
    "        if resumeTraining and epoch_i % 10 == 0:\n",
    "            # Save\n",
    "            saver.save(sess, 'nets/deconv_again/progress', global_step = epoch_i)\n",
    "            # Train data\n",
    "            index = np.random.randint(trainData.shape[0])\n",
    "            refimg = trainData[index, :, :, :].reshape(height, width, 3)\n",
    "            batchData = trainData[index:index+1]\n",
    "            batchLabel = trainLabelOneHot[index:index+1]\n",
    "            predMaxOut = sess.run(predmax, feed_dict={x: batchData, y: batchLabel, keepprob:1.})\n",
    "            yMaxOut = sess.run(ymax, feed_dict={x: batchData, y: batchLabel, keepprob:1.})\n",
    "            gtimg = yMaxOut[0, :, :].reshape(height, width)\n",
    "            errimg = gtimg - predMaxOut[0, :, :].reshape(height, width);\n",
    "            # Plot\n",
    "            xs = np.linspace(0, 140, 128); ys = np.linspace(140, 0, 128)\n",
    "            plt.figure(figsize=(10, 10)) \n",
    "            plt.subplot(2, 2, 1); plt.imshow(refimg); plt.title('Input')\n",
    "            plt.subplot(2, 2, 2); plt.pcolor(xs, ys, gtimg, vmin=0, vmax=nrclass); plt.title('Ground truth')\n",
    "            plt.subplot(2, 2, 3); plt.pcolor(xs, ys, predMaxOut[0, :, :].reshape(height, width), vmin=0, vmax=nrclass); plt.title('[Training] Prediction')\n",
    "            plt.subplot(2, 2, 4); plt.imshow(np.abs(errimg) > 0.5); plt.title('Error')\n",
    "            plt.show() \n",
    "            # Test data\n",
    "            index = np.random.randint(testData.shape[0])\n",
    "            batchData = testData[index:index+1]\n",
    "            batchLabel = testLabelOneHot[index:index+1]\n",
    "            predMaxOut = sess.run(predmax, feed_dict={x: batchData, y: batchLabel, keepprob:1.})\n",
    "            yMaxOut = sess.run(ymax, feed_dict={x: batchData, y: batchLabel, keepprob:1.})\n",
    "            refimg = testData[index, :, :, :].reshape(height, width, 3)\n",
    "            gtimg = yMaxOut[0, :, :].reshape(height, width)\n",
    "            errimg = gtimg - predMaxOut[0, :, :].reshape(height, width)\n",
    "            # Plot\n",
    "            plt.figure(figsize=(10, 10)) \n",
    "            plt.subplot(2, 2, 1); plt.imshow(refimg); plt.title('Input')\n",
    "            plt.subplot(2, 2, 2); plt.pcolor(xs, ys, gtimg, vmin=0, vmax=nrclass);  plt.title('Ground truth')\n",
    "            plt.subplot(2, 2, 3); plt.pcolor(xs, ys, predMaxOut[0, :, :].reshape(height, width), vmin=0, vmax=nrclass); plt.title('[Validation] Prediction')\n",
    "            plt.subplot(2, 2, 4); plt.imshow(np.abs(errimg) > 0.5); plt.title('Error')\n",
    "            plt.show()\n",
    "\n",
    "print (\"Done\")"
   ]
  },
  {
   "cell_type": "code",
   "execution_count": null,
   "metadata": {
    "collapsed": true
   },
   "outputs": [],
   "source": []
  }
 ],
 "metadata": {
  "kernelspec": {
   "display_name": "Python 2",
   "language": "python",
   "name": "python2"
  },
  "language_info": {
   "codemirror_mode": {
    "name": "ipython",
    "version": 2
   },
   "file_extension": ".py",
   "mimetype": "text/x-python",
   "name": "python",
   "nbconvert_exporter": "python",
   "pygments_lexer": "ipython2",
   "version": "2.7.12"
  }
 },
 "nbformat": 4,
 "nbformat_minor": 1
}

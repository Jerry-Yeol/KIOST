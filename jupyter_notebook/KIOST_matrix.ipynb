{
 "cells": [
  {
   "cell_type": "code",
   "execution_count": 1,
   "metadata": {
    "collapsed": false
   },
   "outputs": [],
   "source": [
    "import numpy as np\n",
    "import matplotlib.pyplot as plt\n",
    "import tensorflow as tf\n",
    "from PIL import Image\n",
    "import os\n",
    "import glob\n",
    "import math\n",
    "\n",
    "%matplotlib inline"
   ]
  },
  {
   "cell_type": "code",
   "execution_count": 2,
   "metadata": {
    "collapsed": false
   },
   "outputs": [
    {
     "name": "stdout",
     "output_type": "stream",
     "text": [
      "7 train images\n",
      "1 train label\n"
     ]
    }
   ],
   "source": [
    "path = '/home/jaeyeol/Downloads/dir1/data/trainfull/' \n",
    "\n",
    "trainimglist = glob.glob(path + '/ref*.jpg')\n",
    "trainimglist.sort()\n",
    "trainlabellist = glob.glob(path + '/label.jpg')\n",
    "trainData = None\n",
    "trainLabel = None\n",
    "print (\"%d train images\" % (len(trainimglist)))\n",
    "print (\"%d train label\" % (len(trainlabellist)))\n",
    "\n"
   ]
  },
  {
   "cell_type": "code",
   "execution_count": 3,
   "metadata": {
    "collapsed": true
   },
   "outputs": [],
   "source": [
    "data = Image.open(trainimglist[0])\n",
    "row = data.size[0]*data.size[1]"
   ]
  },
  {
   "cell_type": "code",
   "execution_count": 4,
   "metadata": {
    "collapsed": false
   },
   "outputs": [
    {
     "name": "stdout",
     "output_type": "stream",
     "text": [
      "(61554091, 1)\n",
      "(61554091, 2)\n",
      "(61554091, 3)\n",
      "(61554091, 4)\n",
      "(61554091, 5)\n",
      "(61554091, 6)\n",
      "(61554091, 7)\n"
     ]
    }
   ],
   "source": [
    "# 모든 밴드의 이미지를 불러 vectorization 후 concatenate.\n",
    "# [0,0,0,0,0,0,0],[0,0,0,0,0,0,0] 이런식으로 저장\n",
    "\n",
    "for (f1, i) in zip(trainimglist, range(len(trainimglist))):\n",
    "    \n",
    "    img = Image.open(f1)\n",
    "    \n",
    "    vec  = np.array(img).reshape(row, 1)/255\n",
    "                  \n",
    "    \n",
    "    if i == 0:\n",
    "        trainData = vec\n",
    "    else:\n",
    "        trainData = np.concatenate((trainData, vec), axis=1)\n",
    "    \n",
    "    print trainData.shape "
   ]
  },
  {
   "cell_type": "code",
   "execution_count": 5,
   "metadata": {
    "collapsed": false
   },
   "outputs": [
    {
     "name": "stdout",
     "output_type": "stream",
     "text": [
      "\n",
      "(61554091, 2)\n"
     ]
    }
   ],
   "source": [
    "# trainLabel[i][0]가 1이면 적조 O.\n",
    "# trainLabel[i][1]가 1이면 적조 X.\n",
    "img = Image.open(trainlabellist[0])\n",
    "    \n",
    "trainLabel = np.array(img).reshape(row, 1)/255                              \n",
    "trainLabel = np.concatenate((trainLabel, (1-trainLabel)), axis=1)  \n",
    "print \"\\n\",trainLabel.shape"
   ]
  },
  {
   "cell_type": "code",
   "execution_count": 6,
   "metadata": {
    "collapsed": false
   },
   "outputs": [],
   "source": [
    "x = tf.placeholder(tf.float32, [None, 7])\n",
    "y = tf.placeholder(tf.float32, [None, 2])\n",
    "\n",
    "W = tf.Variable(tf.truncated_normal([7, 2], stddev=0.1), name='W')\n",
    "b = tf.Variable(tf.zeros([1,2]),name='b')\n",
    "\n",
    "saver = tf.train.Saver({'W':W, 'b':b})"
   ]
  },
  {
   "cell_type": "code",
   "execution_count": 7,
   "metadata": {
    "collapsed": false
   },
   "outputs": [],
   "source": [
    "hypothesis = tf.nn.sigmoid(tf.add(tf.matmul(x, W), b))\n",
    "\n",
    "cost = -tf.reduce_mean(y*tf.log(hypothesis) + (1-y)*tf.log(1-hypothesis))\n",
    "\n",
    "optimizer = tf.train.GradientDescentOptimizer(0.5)\n",
    "\n",
    "train = optimizer.minimize(cost)"
   ]
  },
  {
   "cell_type": "code",
   "execution_count": 8,
   "metadata": {
    "collapsed": true
   },
   "outputs": [],
   "source": [
    "init = tf.global_variables_initializer()\n",
    "\n",
    "sess = tf.Session()\n",
    "\n",
    "sess.run(init)"
   ]
  },
  {
   "cell_type": "code",
   "execution_count": 9,
   "metadata": {
    "collapsed": true
   },
   "outputs": [],
   "source": [
    "import time\n"
   ]
  },
  {
   "cell_type": "code",
   "execution_count": 10,
   "metadata": {
    "collapsed": false,
    "scrolled": true
   },
   "outputs": [
    {
     "name": "stdout",
     "output_type": "stream",
     "text": [
      "1 Time :  7.67119383812\n",
      "cost =  0.634752\n",
      "W \n",
      "[[-0.02955659  0.04563994]\n",
      " [-0.0583022  -0.02890591]\n",
      " [-0.03097332  0.09553545]\n",
      " [ 0.10018245 -0.07738239]\n",
      " [ 0.05080269  0.15866867]\n",
      " [ 0.01623261 -0.13574192]\n",
      " [-0.16233991  0.02046356]]\n",
      "b \n",
      "[[-0.12035977  0.12035977]] \n",
      "\n",
      "2 Time :  7.66937398911\n",
      "cost =  0.582289\n",
      "W \n",
      "[[-0.02955659  0.04563994]\n",
      " [-0.0583022  -0.02890591]\n",
      " [-0.03097332  0.09553545]\n",
      " [ 0.10018245 -0.07738239]\n",
      " [ 0.05080269  0.15866867]\n",
      " [ 0.01623261 -0.13574192]\n",
      " [-0.16233991  0.02046356]]\n",
      "b \n",
      "[[-0.23543918  0.23543918]] \n",
      "\n",
      "3 Time :  7.76182985306\n",
      "cost =  0.533936\n",
      "W \n",
      "[[-0.02955659  0.04563994]\n",
      " [-0.0583022  -0.02890591]\n",
      " [-0.03097332  0.09553545]\n",
      " [ 0.10018245 -0.07738239]\n",
      " [ 0.05080269  0.15866867]\n",
      " [ 0.01623261 -0.13574192]\n",
      " [-0.16233991  0.02046356]]\n",
      "b \n",
      "[[-0.34849289  0.34849289]] \n",
      "\n",
      "4 Time :  7.4920771122\n",
      "cost =  0.491583\n",
      "W \n",
      "[[-0.02955659  0.04563994]\n",
      " [-0.0583022  -0.02890591]\n",
      " [-0.03097332  0.09553545]\n",
      " [ 0.10018245 -0.07738239]\n",
      " [ 0.05080269  0.15866867]\n",
      " [ 0.01623261 -0.13574192]\n",
      " [-0.16233991  0.02046356]]\n",
      "b \n",
      "[[-0.45478171  0.45478171]] \n",
      "\n",
      "5 Time :  7.6622710228\n",
      "cost =  0.455916\n",
      "W \n",
      "[[-0.02955659  0.04563994]\n",
      " [-0.0583022  -0.02890591]\n",
      " [-0.03097332  0.09553545]\n",
      " [ 0.10018245 -0.07738239]\n",
      " [ 0.05080269  0.15866867]\n",
      " [ 0.01623261 -0.13574192]\n",
      " [-0.16233991  0.02046356]]\n",
      "b \n",
      "[[-0.54919207  0.54919207]] \n",
      "\n",
      "6 Time :  7.68859982491\n",
      "cost =  0.424557\n",
      "W \n",
      "[[-0.02955659  0.04563994]\n",
      " [-0.0583022  -0.02890591]\n",
      " [-0.03097332  0.09553545]\n",
      " [ 0.10018245 -0.07738239]\n",
      " [ 0.05080269  0.15866867]\n",
      " [ 0.01623261 -0.13574192]\n",
      " [-0.16233991  0.02046356]]\n",
      "b \n",
      "[[-0.63742661  0.63742661]] \n",
      "\n",
      "7 Time :  7.89265584946\n",
      "cost =  0.395695\n",
      "W \n",
      "[[-0.02955659  0.04563994]\n",
      " [-0.0583022  -0.02890591]\n",
      " [-0.03097332  0.09553545]\n",
      " [ 0.10018245 -0.07738239]\n",
      " [ 0.05080269  0.15866867]\n",
      " [ 0.01623261 -0.13574192]\n",
      " [-0.16233991  0.02046356]]\n",
      "b \n",
      "[[-0.72342592  0.72342592]] \n",
      "\n",
      "8 Time :  7.89001202583\n",
      "cost =  0.369026\n",
      "W \n",
      "[[-0.02955659  0.04563994]\n",
      " [-0.0583022  -0.02890591]\n",
      " [-0.03097332  0.09553545]\n",
      " [ 0.10018245 -0.07738239]\n",
      " [ 0.05080269  0.15866867]\n",
      " [ 0.01623261 -0.13574192]\n",
      " [-0.16233991  0.02046356]]\n",
      "b \n",
      "[[-0.80725086  0.80725086]] \n",
      "\n",
      "9 Time :  7.47363591194\n",
      "cost =  0.345848\n",
      "W \n",
      "[[-0.02955659  0.04563994]\n",
      " [-0.0583022  -0.02890591]\n",
      " [-0.03097332  0.09553545]\n",
      " [ 0.10018245 -0.07738239]\n",
      " [ 0.05080269  0.15866867]\n",
      " [ 0.01623261 -0.13574192]\n",
      " [-0.16233991  0.02046356]]\n",
      "b \n",
      "[[-0.88392812  0.88392812]] \n",
      "\n",
      "10 Time :  7.92630004883\n",
      "cost =  0.324953\n",
      "W \n",
      "[[-0.02955659  0.04563994]\n",
      " [-0.0583022  -0.02890591]\n",
      " [-0.03097332  0.09553545]\n",
      " [ 0.10018245 -0.07738239]\n",
      " [ 0.05080269  0.15866867]\n",
      " [ 0.01623261 -0.13574192]\n",
      " [-0.16233991  0.02046356]]\n",
      "b \n",
      "[[-0.95760888  0.95760888]] \n",
      "\n",
      "11 Time :  7.77387619019\n",
      "cost =  0.306159\n",
      "W \n",
      "[[-0.02955659  0.04563994]\n",
      " [-0.0583022  -0.02890591]\n",
      " [-0.03097332  0.09553545]\n",
      " [ 0.10018245 -0.07738239]\n",
      " [ 0.05080269  0.15866867]\n",
      " [ 0.01623261 -0.13574192]\n",
      " [-0.16233991  0.02046356]]\n",
      "b \n",
      "[[-1.02689636  1.02689636]] \n",
      "\n",
      "12 Time :  7.84183692932\n",
      "cost =  0.288884\n",
      "W \n",
      "[[-0.02955659  0.04563994]\n",
      " [-0.0583022  -0.02890591]\n",
      " [-0.03097332  0.09553545]\n",
      " [ 0.10018245 -0.07738239]\n",
      " [ 0.05080269  0.15866867]\n",
      " [ 0.01623261 -0.13574192]\n",
      " [-0.16233991  0.02046356]]\n",
      "b \n",
      "[[-1.09410298  1.09410298]] \n",
      "\n",
      "13 Time :  7.52320814133\n",
      "cost =  0.274115\n",
      "W \n",
      "[[-0.02955659  0.04563994]\n",
      " [-0.0583022  -0.02890591]\n",
      " [-0.03097332  0.09553545]\n",
      " [ 0.10018245 -0.07738239]\n",
      " [ 0.05080269  0.15866867]\n",
      " [ 0.01623261 -0.13574192]\n",
      " [-0.16233991  0.02046356]]\n",
      "b \n",
      "[[-1.15468335  1.15468335]] \n",
      "\n",
      "14 Time :  7.82809400558\n",
      "cost =  0.260415\n",
      "W \n",
      "[[-0.02955659  0.04563994]\n",
      " [-0.0583022  -0.02890591]\n",
      " [-0.03097332  0.09553545]\n",
      " [ 0.10018245 -0.07738239]\n",
      " [ 0.05080269  0.15866867]\n",
      " [ 0.01623261 -0.13574192]\n",
      " [-0.16233991  0.02046356]]\n",
      "b \n",
      "[[-1.21274149  1.21274149]] \n",
      "\n",
      "15 Time :  8.06632781029\n",
      "cost =  0.247676\n",
      "W \n",
      "[[-0.02955659  0.04563994]\n",
      " [-0.0583022  -0.02890591]\n",
      " [-0.03097332  0.09553545]\n",
      " [ 0.10018245 -0.07738239]\n",
      " [ 0.05080269  0.15866867]\n",
      " [ 0.01623261 -0.13574192]\n",
      " [-0.16233991  0.02046356]]\n",
      "b \n",
      "[[-1.27004683  1.27004683]] \n",
      "\n",
      "16 Time :  7.8493309021\n",
      "cost =  0.235583\n",
      "W \n",
      "[[-0.02955659  0.04563994]\n",
      " [-0.0583022  -0.02890591]\n",
      " [-0.03097332  0.09553545]\n",
      " [ 0.10018245 -0.07738239]\n",
      " [ 0.05080269  0.15866867]\n",
      " [ 0.01623261 -0.13574192]\n",
      " [-0.16233991  0.02046356]]\n",
      "b \n",
      "[[-1.32651567  1.32651567]] \n",
      "\n",
      "17 Time :  7.88649892807\n",
      "cost =  0.224494\n",
      "W \n",
      "[[-0.02955659  0.04563994]\n",
      " [-0.0583022  -0.02890591]\n",
      " [-0.03097332  0.09553545]\n",
      " [ 0.10018245 -0.07738239]\n",
      " [ 0.05080269  0.15866867]\n",
      " [ 0.01623261 -0.13574192]\n",
      " [-0.16233991  0.02046356]]\n",
      "b \n",
      "[[-1.38031244  1.38031244]] \n",
      "\n",
      "18 Time :  7.54884004593\n",
      "cost =  0.214112\n",
      "W \n",
      "[[-0.02955659  0.04563994]\n",
      " [-0.0583022  -0.02890591]\n",
      " [-0.03097332  0.09553545]\n",
      " [ 0.10018245 -0.07738239]\n",
      " [ 0.05080269  0.15866867]\n",
      " [ 0.01623261 -0.13574192]\n",
      " [-0.16233991  0.02046356]]\n",
      "b \n",
      "[[-1.43315065  1.43315065]] \n",
      "\n",
      "19 Time :  7.71529221535\n",
      "cost =  0.20525\n",
      "W \n",
      "[[-0.02955659  0.04563994]\n",
      " [-0.0583022  -0.02890591]\n",
      " [-0.03097332  0.09553545]\n",
      " [ 0.10018245 -0.07738239]\n",
      " [ 0.05080269  0.15866867]\n",
      " [ 0.01623261 -0.13574192]\n",
      " [-0.16233991  0.02046356]]\n",
      "b \n",
      "[[-1.47982335  1.47982335]] \n",
      "\n",
      "20 Time :  7.36612391472\n",
      "cost =  0.197195\n",
      "W \n",
      "[[-0.02955659  0.04563994]\n",
      " [-0.0583022  -0.02890591]\n",
      " [-0.03097332  0.09553545]\n",
      " [ 0.10018245 -0.07738239]\n",
      " [ 0.05080269  0.15866867]\n",
      " [ 0.01623261 -0.13574192]\n",
      " [-0.16233991  0.02046356]]\n",
      "b \n",
      "[[-1.52399576  1.52399576]] \n",
      "\n",
      "21 Time :  7.61274886131\n",
      "cost =  0.189588\n",
      "W \n",
      "[[-0.02955659  0.04563994]\n",
      " [-0.0583022  -0.02890591]\n",
      " [-0.03097332  0.09553545]\n",
      " [ 0.10018245 -0.07738239]\n",
      " [ 0.05080269  0.15866867]\n",
      " [ 0.01623261 -0.13574192]\n",
      " [-0.16233991  0.02046356]]\n",
      "b \n",
      "[[-1.56728172  1.56728172]] \n",
      "\n",
      "22 Time :  7.93471097946\n",
      "cost =  0.182381\n",
      "W \n",
      "[[-0.02955659  0.04563994]\n",
      " [-0.0583022  -0.02890591]\n",
      " [-0.03097332  0.09553545]\n",
      " [ 0.10018245 -0.07738239]\n",
      " [ 0.05080269  0.15866867]\n",
      " [ 0.01623261 -0.13574192]\n",
      " [-0.16233991  0.02046356]]\n",
      "b \n",
      "[[-1.61025941  1.61025941]] \n",
      "\n",
      "23 Time :  7.36826586723\n",
      "cost =  0.1753\n",
      "W \n",
      "[[-0.02955659  0.04563994]\n",
      " [-0.0583022  -0.02890591]\n",
      " [-0.03097332  0.09553545]\n",
      " [ 0.10018245 -0.07738239]\n",
      " [ 0.05080269  0.15866867]\n",
      " [ 0.01623261 -0.13574192]\n",
      " [-0.16233991  0.02046356]]\n",
      "b \n",
      "[[-1.65291417  1.65291417]] \n",
      "\n",
      "24 Time :  7.73755693436\n",
      "cost =  0.168828\n",
      "W \n",
      "[[-0.02955659  0.04563994]\n",
      " [-0.0583022  -0.02890591]\n",
      " [-0.03097332  0.09553545]\n",
      " [ 0.10018245 -0.07738239]\n",
      " [ 0.05080269  0.15866867]\n",
      " [ 0.01623261 -0.13574192]\n",
      " [-0.16233991  0.02046356]]\n",
      "b \n",
      "[[-1.69455528  1.69455528]] \n",
      "\n",
      "25 Time :  7.3897459507\n",
      "cost =  0.162893\n",
      "W \n",
      "[[-0.02955659  0.04563994]\n",
      " [-0.0583022  -0.02890591]\n",
      " [-0.03097332  0.09553545]\n",
      " [ 0.10018245 -0.07738239]\n",
      " [ 0.05080269  0.15866867]\n",
      " [ 0.01623261 -0.13574192]\n",
      " [-0.16233991  0.02046356]]\n",
      "b \n",
      "[[-1.73290062  1.73290062]] \n",
      "\n"
     ]
    }
   ],
   "source": [
    "for step in xrange(25):\n",
    "    start=time.time()\n",
    "    sess.run(train, feed_dict = {x:trainData, y:trainLabel})\n",
    "    print step + 1, \"Time : \", time.time()-start\n",
    "    print \"cost = \", sess.run(cost, feed_dict = {x:trainData, y:trainLabel})\n",
    "    print \"W\", \"\\n\", sess.run(W)\n",
    "    print \"b\", \"\\n\", sess.run(b), \"\\n\""
   ]
  },
  {
   "cell_type": "code",
   "execution_count": 11,
   "metadata": {
    "collapsed": false
   },
   "outputs": [
    {
     "name": "stdout",
     "output_type": "stream",
     "text": [
      "7\n"
     ]
    }
   ],
   "source": [
    "testpath = '/home/jaeyeol/Downloads/dir1/data/'\n",
    "\n",
    "testimglist =  glob.glob(testpath + '/ref*.jpg')\n",
    "\n",
    "testimglen = len(testimglist)\n",
    "\n",
    "testData = None\n",
    "\n",
    "print testimglen"
   ]
  },
  {
   "cell_type": "code",
   "execution_count": 12,
   "metadata": {
    "collapsed": true
   },
   "outputs": [],
   "source": [
    "data = Image.open(testimglist[0])\n",
    "\n",
    "row = data.size[0]*data.size[1]"
   ]
  },
  {
   "cell_type": "code",
   "execution_count": 13,
   "metadata": {
    "collapsed": false
   },
   "outputs": [
    {
     "name": "stdout",
     "output_type": "stream",
     "text": [
      "(117649, 1)\n",
      "(117649, 2)\n",
      "(117649, 3)\n",
      "(117649, 4)\n",
      "(117649, 5)\n",
      "(117649, 6)\n",
      "(117649, 7)\n"
     ]
    }
   ],
   "source": [
    "\n",
    "\n",
    "for (f1, i) in zip(testimglist, range(len(testimglist))):\n",
    "    \n",
    "    img = Image.open(f1)\n",
    "    \n",
    "    vec  = np.array(img).reshape(row, 1)/255\n",
    "                  \n",
    "    \n",
    "    if i == 0:\n",
    "        testData = vec\n",
    "    else:\n",
    "        testData = np.concatenate((testData, vec), axis=1)\n",
    "    \n",
    "    print testData.shape"
   ]
  },
  {
   "cell_type": "code",
   "execution_count": 14,
   "metadata": {
    "collapsed": false
   },
   "outputs": [],
   "source": [
    "testx = tf.placeholder(tf.float32, [None, 7])\n",
    "testw = tf.placeholder(tf.float32, [None, 2])\n",
    "testb = tf.placeholder(tf.float32, [None, 2])\n",
    "\n",
    "hypothesis = tf.nn.sigmoid(tf.add(tf.matmul(testx,testw),testb))"
   ]
  },
  {
   "cell_type": "code",
   "execution_count": 15,
   "metadata": {
    "collapsed": false
   },
   "outputs": [
    {
     "data": {
      "text/plain": [
       "array([[-0.02955659,  0.04563994],\n",
       "       [-0.0583022 , -0.02890591],\n",
       "       [-0.03097332,  0.09553545],\n",
       "       [ 0.10018245, -0.07738239],\n",
       "       [ 0.05080269,  0.15866867],\n",
       "       [ 0.01623261, -0.13574192],\n",
       "       [-0.16233991,  0.02046356]], dtype=float32)"
      ]
     },
     "execution_count": 15,
     "metadata": {},
     "output_type": "execute_result"
    }
   ],
   "source": [
    "sess.run(W)"
   ]
  },
  {
   "cell_type": "code",
   "execution_count": 16,
   "metadata": {
    "collapsed": false
   },
   "outputs": [],
   "source": [
    "result = sess.run([hypothesis], feed_dict={testx:testData, testw:sess.run(W), testb:sess.run(b)})"
   ]
  },
  {
   "cell_type": "code",
   "execution_count": 17,
   "metadata": {
    "collapsed": false
   },
   "outputs": [],
   "source": [
    "Infer = None"
   ]
  },
  {
   "cell_type": "code",
   "execution_count": 18,
   "metadata": {
    "collapsed": false
   },
   "outputs": [],
   "source": [
    "for i in range(len(testData)):\n",
    "    testlabel = np.array([np.argmax(result[0][i])])\n",
    "    if i == 0:\n",
    "        Infer =testlabel\n",
    "    else:\n",
    "        Infer = np.concatenate((Infer, testlabel), axis = 0)"
   ]
  },
  {
   "cell_type": "code",
   "execution_count": 19,
   "metadata": {
    "collapsed": false
   },
   "outputs": [
    {
     "data": {
      "text/plain": [
       "array([1, 1, 1, ..., 1, 1, 1])"
      ]
     },
     "execution_count": 19,
     "metadata": {},
     "output_type": "execute_result"
    }
   ],
   "source": [
    "Infer"
   ]
  },
  {
   "cell_type": "code",
   "execution_count": 20,
   "metadata": {
    "collapsed": false
   },
   "outputs": [
    {
     "data": {
      "text/plain": [
       "1"
      ]
     },
     "execution_count": 20,
     "metadata": {},
     "output_type": "execute_result"
    }
   ],
   "source": [
    "min(Infer)"
   ]
  },
  {
   "cell_type": "code",
   "execution_count": null,
   "metadata": {
    "collapsed": true
   },
   "outputs": [],
   "source": []
  }
 ],
 "metadata": {
  "kernelspec": {
   "display_name": "Python 2",
   "language": "python",
   "name": "python2"
  },
  "language_info": {
   "codemirror_mode": {
    "name": "ipython",
    "version": 2
   },
   "file_extension": ".py",
   "mimetype": "text/x-python",
   "name": "python",
   "nbconvert_exporter": "python",
   "pygments_lexer": "ipython2",
   "version": "2.7.5"
  }
 },
 "nbformat": 4,
 "nbformat_minor": 2
}
